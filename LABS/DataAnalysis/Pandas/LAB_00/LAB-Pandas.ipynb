{
 "cells": [
  {
   "cell_type": "markdown",
   "id": "a1dbbcc7",
   "metadata": {
    "slideshow": {
     "slide_type": "slide"
    }
   },
   "source": [
    "<center>\n",
    "    <div style=\"border: 2px solid #566ee1; padding: 20px; border-radius: 10px;\">\n",
    "        <span style=\"display: block; font-size: 24px; color: #566ee1; margin-bottom: 10px;font-weight: bold;\">CI-0108 Computación para Economistas</span>\n",
    "        <span style=\"display: block; font-size: 18px; font-weight: bold;\">Profesora: Patricia Guevara Barrantes</span>\n",
    "        <span style=\"display: block; font-size: 18px;\">Elaborado por: Juan Andrés Montero Zúñiga</span>\n",
    "        <br><br>\n",
    "        <div style=\"background-color: #566ee1; padding: 10px; border-radius: 5px;\">\n",
    "            <span style=\"font-size: 18px; color: white; display: block; margin-bottom: 5px;\">Laboratorio:</span>\n",
    "            <span style=\"margin: 0; font-size: 20px; font-weight: bold; color: white;\">Manejo de Datos con Pandas, Importar y Graficar</span>\n",
    "        </div>\n",
    "    </div>\n",
    "    <i>23-Nov-2023</i>\n",
    "</center>\n"
   ]
  },
  {
   "cell_type": "markdown",
   "id": "4dd7cd15",
   "metadata": {
    "slideshow": {
     "slide_type": "slide"
    }
   },
   "source": [
    "En el campo de la economía, la aplicación de la programación se distingue por su uso especializado, con objetivos deferentes a los de otras disciplinas. Los economistas se encuentran frecuentemente dentro del amplio ámbito del manejo de datos o análisis de información. \n",
    "\n",
    "Más allá de simplemente acceder a datos, nuestra labor implica comprender, modelar y extraer conocimientos a partir de conjuntos de información. En este contexto, las librerias como Pandas se convierten en aliados esenciales, permitiéndonos no solo cargar cualquier tipo de base de datos, sino también limpiarlos, transformarlos y analizarlos con precisión."
   ]
  },
  {
   "cell_type": "markdown",
   "id": "733770b2",
   "metadata": {
    "slideshow": {
     "slide_type": "slide"
    }
   },
   "source": [
    "# Manejo de datos con pandas"
   ]
  },
  {
   "cell_type": "code",
   "execution_count": null,
   "id": "af761d99",
   "metadata": {
    "scrolled": true,
    "slideshow": {
     "slide_type": "-"
    }
   },
   "outputs": [],
   "source": [
    "!pip install pandas\n",
    "!pip install pandas-datareader"
   ]
  },
  {
   "cell_type": "code",
   "execution_count": 2,
   "id": "baf5211a",
   "metadata": {
    "slideshow": {
     "slide_type": "-"
    }
   },
   "outputs": [],
   "source": [
    "import pandas as pd\n",
    "from pandas_datareader import wb"
   ]
  },
  {
   "cell_type": "code",
   "execution_count": 3,
   "id": "9fab124f",
   "metadata": {
    "scrolled": true,
    "slideshow": {
     "slide_type": "slide"
    }
   },
   "outputs": [
    {
     "data": {
      "text/html": [
       "<div>\n",
       "<style scoped>\n",
       "    .dataframe tbody tr th:only-of-type {\n",
       "        vertical-align: middle;\n",
       "    }\n",
       "\n",
       "    .dataframe tbody tr th {\n",
       "        vertical-align: top;\n",
       "    }\n",
       "\n",
       "    .dataframe thead th {\n",
       "        text-align: right;\n",
       "    }\n",
       "</style>\n",
       "<table border=\"1\" class=\"dataframe\">\n",
       "  <thead>\n",
       "    <tr style=\"text-align: right;\">\n",
       "      <th></th>\n",
       "      <th>id</th>\n",
       "      <th>name</th>\n",
       "      <th>unit</th>\n",
       "      <th>source</th>\n",
       "      <th>sourceNote</th>\n",
       "      <th>sourceOrganization</th>\n",
       "      <th>topics</th>\n",
       "    </tr>\n",
       "  </thead>\n",
       "  <tbody>\n",
       "    <tr>\n",
       "      <th>691</th>\n",
       "      <td>6.0.GDPpc_constant</td>\n",
       "      <td>GDP per capita, PPP (constant 2011 internation...</td>\n",
       "      <td></td>\n",
       "      <td>LAC Equity Lab</td>\n",
       "      <td>GDP per capita based on purchasing power parit...</td>\n",
       "      <td>b'World Development Indicators (World Bank)'</td>\n",
       "      <td>Economy &amp; Growth</td>\n",
       "    </tr>\n",
       "    <tr>\n",
       "      <th>2410</th>\n",
       "      <td>CC.GHG.MEMG.GC</td>\n",
       "      <td>Macro drivers of GHG emissions growth in the p...</td>\n",
       "      <td></td>\n",
       "      <td>Country Climate and Development Report (CCDR)</td>\n",
       "      <td>Data reflects the impact of GDP-per capita (as...</td>\n",
       "      <td>b'Climate Watch. 2020. Washington, DC: World R...</td>\n",
       "      <td></td>\n",
       "    </tr>\n",
       "    <tr>\n",
       "      <th>6386</th>\n",
       "      <td>FB.DPT.INSU.PC.ZS</td>\n",
       "      <td>Deposit insurance coverage (% of GDP per capita)</td>\n",
       "      <td></td>\n",
       "      <td>WDI Database Archives</td>\n",
       "      <td></td>\n",
       "      <td>b''</td>\n",
       "      <td></td>\n",
       "    </tr>\n",
       "    <tr>\n",
       "      <th>10672</th>\n",
       "      <td>NE.GDI.FTOT.CR</td>\n",
       "      <td>GDP expenditure on gross fixed capital formati...</td>\n",
       "      <td></td>\n",
       "      <td>Indonesia Database for Policy and Economic Res...</td>\n",
       "      <td>Gross fixed capital formation is expenditure f...</td>\n",
       "      <td>b'BADAN PUSAT STATISTIK - Statistics Indonesia'</td>\n",
       "      <td></td>\n",
       "    </tr>\n",
       "    <tr>\n",
       "      <th>10679</th>\n",
       "      <td>NE.GDI.FTOT.SNA08.CR</td>\n",
       "      <td>GDP expenditure on gross fixed capital formati...</td>\n",
       "      <td></td>\n",
       "      <td>Indonesia Database for Policy and Economic Res...</td>\n",
       "      <td></td>\n",
       "      <td>b''</td>\n",
       "      <td></td>\n",
       "    </tr>\n",
       "    <tr>\n",
       "      <th>10756</th>\n",
       "      <td>NV.AGR.PCAP.KD.ZG</td>\n",
       "      <td>Real agricultural GDP per capita growth rate (%)</td>\n",
       "      <td></td>\n",
       "      <td>Africa Development Indicators</td>\n",
       "      <td>The growth rate of real per capita GDP in agri...</td>\n",
       "      <td>b'World Bank country economists.'</td>\n",
       "      <td></td>\n",
       "    </tr>\n",
       "    <tr>\n",
       "      <th>10976</th>\n",
       "      <td>NY.GDP.PCAP.CD</td>\n",
       "      <td>GDP per capita (current US$)</td>\n",
       "      <td></td>\n",
       "      <td>World Development Indicators</td>\n",
       "      <td>GDP per capita is gross domestic product divid...</td>\n",
       "      <td>b'World Bank national accounts data, and OECD ...</td>\n",
       "      <td>Economy &amp; Growth</td>\n",
       "    </tr>\n",
       "    <tr>\n",
       "      <th>10977</th>\n",
       "      <td>NY.GDP.PCAP.CN</td>\n",
       "      <td>GDP per capita (current LCU)</td>\n",
       "      <td></td>\n",
       "      <td>World Development Indicators</td>\n",
       "      <td>GDP per capita is gross domestic product divid...</td>\n",
       "      <td>b'World Bank national accounts data, and OECD ...</td>\n",
       "      <td>Economy &amp; Growth</td>\n",
       "    </tr>\n",
       "    <tr>\n",
       "      <th>10978</th>\n",
       "      <td>NY.GDP.PCAP.KD</td>\n",
       "      <td>GDP per capita (constant 2015 US$)</td>\n",
       "      <td></td>\n",
       "      <td>World Development Indicators</td>\n",
       "      <td>GDP per capita is gross domestic product divid...</td>\n",
       "      <td>b'World Bank national accounts data, and OECD ...</td>\n",
       "      <td>Economy &amp; Growth</td>\n",
       "    </tr>\n",
       "    <tr>\n",
       "      <th>10979</th>\n",
       "      <td>NY.GDP.PCAP.KD.ZG</td>\n",
       "      <td>GDP per capita growth (annual %)</td>\n",
       "      <td></td>\n",
       "      <td>World Development Indicators</td>\n",
       "      <td>Annual percentage growth rate of GDP per capit...</td>\n",
       "      <td>b'World Bank national accounts data, and OECD ...</td>\n",
       "      <td>Economy &amp; Growth</td>\n",
       "    </tr>\n",
       "    <tr>\n",
       "      <th>10980</th>\n",
       "      <td>NY.GDP.PCAP.KN</td>\n",
       "      <td>GDP per capita (constant LCU)</td>\n",
       "      <td></td>\n",
       "      <td>World Development Indicators</td>\n",
       "      <td>GDP per capita is gross domestic product divid...</td>\n",
       "      <td>b'World Bank national accounts data, and OECD ...</td>\n",
       "      <td>Economy &amp; Growth</td>\n",
       "    </tr>\n",
       "    <tr>\n",
       "      <th>10981</th>\n",
       "      <td>NY.GDP.PCAP.PP.CD</td>\n",
       "      <td>GDP per capita, PPP (current international $)</td>\n",
       "      <td></td>\n",
       "      <td>World Development Indicators</td>\n",
       "      <td>This indicator provides per capita values for ...</td>\n",
       "      <td>b'International Comparison Program, World Bank...</td>\n",
       "      <td>Economy &amp; Growth</td>\n",
       "    </tr>\n",
       "    <tr>\n",
       "      <th>10982</th>\n",
       "      <td>NY.GDP.PCAP.PP.KD</td>\n",
       "      <td>GDP per capita, PPP (constant 2017 internation...</td>\n",
       "      <td></td>\n",
       "      <td>World Development Indicators</td>\n",
       "      <td>GDP per capita based on purchasing power parit...</td>\n",
       "      <td>b'International Comparison Program, World Bank...</td>\n",
       "      <td>Economy &amp; Growth</td>\n",
       "    </tr>\n",
       "    <tr>\n",
       "      <th>10983</th>\n",
       "      <td>NY.GDP.PCAP.PP.KD.87</td>\n",
       "      <td>GDP per capita, PPP (constant 1987 internation...</td>\n",
       "      <td></td>\n",
       "      <td>WDI Database Archives</td>\n",
       "      <td></td>\n",
       "      <td>b''</td>\n",
       "      <td></td>\n",
       "    </tr>\n",
       "    <tr>\n",
       "      <th>10984</th>\n",
       "      <td>NY.GDP.PCAP.PP.KD.ZG</td>\n",
       "      <td>GDP per capita, PPP annual growth (%)</td>\n",
       "      <td></td>\n",
       "      <td>Africa Development Indicators</td>\n",
       "      <td>Annual percentage growth rate of GDP per capit...</td>\n",
       "      <td>b'\"World Bank, International Comparison Progra...</td>\n",
       "      <td></td>\n",
       "    </tr>\n",
       "    <tr>\n",
       "      <th>11203</th>\n",
       "      <td>PER.ALL.PS.GDP</td>\n",
       "      <td>World Bank: Public education expenditure per s...</td>\n",
       "      <td></td>\n",
       "      <td>Education Statistics</td>\n",
       "      <td></td>\n",
       "      <td>b''</td>\n",
       "      <td></td>\n",
       "    </tr>\n",
       "    <tr>\n",
       "      <th>11280</th>\n",
       "      <td>PER.BAS.PS.GDP</td>\n",
       "      <td>World Bank: Public education expenditure per s...</td>\n",
       "      <td></td>\n",
       "      <td>Education Statistics</td>\n",
       "      <td></td>\n",
       "      <td>b''</td>\n",
       "      <td></td>\n",
       "    </tr>\n",
       "    <tr>\n",
       "      <th>11347</th>\n",
       "      <td>PER.JR.PS.GDP</td>\n",
       "      <td>World Bank: Public education expenditure per s...</td>\n",
       "      <td></td>\n",
       "      <td>Education Statistics</td>\n",
       "      <td></td>\n",
       "      <td>b''</td>\n",
       "      <td></td>\n",
       "    </tr>\n",
       "    <tr>\n",
       "      <th>11490</th>\n",
       "      <td>PER.PP.PS.GDP</td>\n",
       "      <td>World Bank: Public education expenditure per s...</td>\n",
       "      <td></td>\n",
       "      <td>Education Statistics</td>\n",
       "      <td></td>\n",
       "      <td>b''</td>\n",
       "      <td></td>\n",
       "    </tr>\n",
       "    <tr>\n",
       "      <th>11557</th>\n",
       "      <td>PER.PRM.PS.GDP</td>\n",
       "      <td>World Bank: Public education expenditure per s...</td>\n",
       "      <td></td>\n",
       "      <td>Education Statistics</td>\n",
       "      <td></td>\n",
       "      <td>b''</td>\n",
       "      <td></td>\n",
       "    </tr>\n",
       "    <tr>\n",
       "      <th>11651</th>\n",
       "      <td>PER.SEC.PS.GDP</td>\n",
       "      <td>World Bank: Public education expenditure per s...</td>\n",
       "      <td></td>\n",
       "      <td>Education Statistics</td>\n",
       "      <td></td>\n",
       "      <td>b''</td>\n",
       "      <td></td>\n",
       "    </tr>\n",
       "    <tr>\n",
       "      <th>11886</th>\n",
       "      <td>PER.SR.PS.GDP</td>\n",
       "      <td>World Bank: Public education expenditure per s...</td>\n",
       "      <td></td>\n",
       "      <td>Education Statistics</td>\n",
       "      <td></td>\n",
       "      <td>b''</td>\n",
       "      <td></td>\n",
       "    </tr>\n",
       "    <tr>\n",
       "      <th>11943</th>\n",
       "      <td>PER.TER.PS.GDP</td>\n",
       "      <td>World Bank: Public education expenditure per s...</td>\n",
       "      <td></td>\n",
       "      <td>Education Statistics</td>\n",
       "      <td></td>\n",
       "      <td>b''</td>\n",
       "      <td></td>\n",
       "    </tr>\n",
       "    <tr>\n",
       "      <th>11990</th>\n",
       "      <td>PER.TT.PS.GDP</td>\n",
       "      <td>World Bank: Public education expenditure per s...</td>\n",
       "      <td></td>\n",
       "      <td>Education Statistics</td>\n",
       "      <td></td>\n",
       "      <td>b''</td>\n",
       "      <td></td>\n",
       "    </tr>\n",
       "    <tr>\n",
       "      <th>12010</th>\n",
       "      <td>PER.VOC.PS.GDP</td>\n",
       "      <td>World Bank: Public education expenditure per s...</td>\n",
       "      <td></td>\n",
       "      <td>Education Statistics</td>\n",
       "      <td></td>\n",
       "      <td>b''</td>\n",
       "      <td></td>\n",
       "    </tr>\n",
       "    <tr>\n",
       "      <th>15710</th>\n",
       "      <td>SE.PRM.SATT.2</td>\n",
       "      <td>(De Facto) Average principal salary as percent...</td>\n",
       "      <td></td>\n",
       "      <td>Education Statistics</td>\n",
       "      <td></td>\n",
       "      <td>b'World Bank, Global Education Policy Dashboard'</td>\n",
       "      <td></td>\n",
       "    </tr>\n",
       "    <tr>\n",
       "      <th>15774</th>\n",
       "      <td>SE.PRM.TATT.1</td>\n",
       "      <td>(De Jure) Average starting public-school teach...</td>\n",
       "      <td></td>\n",
       "      <td>Education Statistics</td>\n",
       "      <td></td>\n",
       "      <td>b'World Bank, Global Education Policy Dashboard'</td>\n",
       "      <td></td>\n",
       "    </tr>\n",
       "    <tr>\n",
       "      <th>16007</th>\n",
       "      <td>SE.XPD.PRIM.PC.ZS</td>\n",
       "      <td>Government expenditure per student, primary (%...</td>\n",
       "      <td></td>\n",
       "      <td>World Development Indicators</td>\n",
       "      <td>Government expenditure per student is the aver...</td>\n",
       "      <td>b'UNESCO Institute for Statistics (http://uis....</td>\n",
       "      <td>Education</td>\n",
       "    </tr>\n",
       "    <tr>\n",
       "      <th>16011</th>\n",
       "      <td>SE.XPD.SECO.PC.ZS</td>\n",
       "      <td>Government expenditure per student, secondary ...</td>\n",
       "      <td></td>\n",
       "      <td>World Development Indicators</td>\n",
       "      <td>Government expenditure per student is the aver...</td>\n",
       "      <td>b'UNESCO Institute for Statistics (http://uis....</td>\n",
       "      <td>Education</td>\n",
       "    </tr>\n",
       "    <tr>\n",
       "      <th>16016</th>\n",
       "      <td>SE.XPD.TERT.PC.ZS</td>\n",
       "      <td>Government expenditure per student, tertiary (...</td>\n",
       "      <td></td>\n",
       "      <td>World Development Indicators</td>\n",
       "      <td>Government expenditure per student is the aver...</td>\n",
       "      <td>b'UNESCO Institute for Statistics (http://uis....</td>\n",
       "      <td>Education</td>\n",
       "    </tr>\n",
       "    <tr>\n",
       "      <th>20284</th>\n",
       "      <td>UIS.XUNIT.GDPCAP.02.FSGOV</td>\n",
       "      <td>Initial government funding per pre-primary stu...</td>\n",
       "      <td></td>\n",
       "      <td>Education Statistics</td>\n",
       "      <td>Total general (local, regional and central, cu...</td>\n",
       "      <td>b'UNESCO Institute for Statistics'</td>\n",
       "      <td></td>\n",
       "    </tr>\n",
       "    <tr>\n",
       "      <th>20285</th>\n",
       "      <td>UIS.XUNIT.GDPCAP.1.FSGOV</td>\n",
       "      <td>Initial government funding per primary student...</td>\n",
       "      <td></td>\n",
       "      <td>Education Statistics</td>\n",
       "      <td>Total general (local, regional and central, cu...</td>\n",
       "      <td>b'UNESCO Institute for Statistics'</td>\n",
       "      <td></td>\n",
       "    </tr>\n",
       "    <tr>\n",
       "      <th>20286</th>\n",
       "      <td>UIS.XUNIT.GDPCAP.1.FSHH</td>\n",
       "      <td>Initial household funding per primary student ...</td>\n",
       "      <td></td>\n",
       "      <td>Education Statistics</td>\n",
       "      <td>Total payments of households (pupils, students...</td>\n",
       "      <td>b'UNESCO Institute for Statistics'</td>\n",
       "      <td></td>\n",
       "    </tr>\n",
       "    <tr>\n",
       "      <th>20287</th>\n",
       "      <td>UIS.XUNIT.GDPCAP.2.FSGOV</td>\n",
       "      <td>Initial government funding per lower secondary...</td>\n",
       "      <td></td>\n",
       "      <td>Education Statistics</td>\n",
       "      <td>Total general (local, regional and central, cu...</td>\n",
       "      <td>b'UNESCO Institute for Statistics'</td>\n",
       "      <td></td>\n",
       "    </tr>\n",
       "    <tr>\n",
       "      <th>20288</th>\n",
       "      <td>UIS.XUNIT.GDPCAP.23.FSGOV</td>\n",
       "      <td>Initial government funding per secondary stude...</td>\n",
       "      <td></td>\n",
       "      <td>Education Statistics</td>\n",
       "      <td>Total general (local, regional and central, cu...</td>\n",
       "      <td>b'UNESCO Institute for Statistics'</td>\n",
       "      <td></td>\n",
       "    </tr>\n",
       "    <tr>\n",
       "      <th>20289</th>\n",
       "      <td>UIS.XUNIT.GDPCAP.23.FSHH</td>\n",
       "      <td>Initial household funding per secondary studen...</td>\n",
       "      <td></td>\n",
       "      <td>Education Statistics</td>\n",
       "      <td>Total payments of households (pupils, students...</td>\n",
       "      <td>b'UNESCO Institute for Statistics'</td>\n",
       "      <td></td>\n",
       "    </tr>\n",
       "    <tr>\n",
       "      <th>20290</th>\n",
       "      <td>UIS.XUNIT.GDPCAP.3.FSGOV</td>\n",
       "      <td>Initial government funding per upper secondary...</td>\n",
       "      <td></td>\n",
       "      <td>Education Statistics</td>\n",
       "      <td>Total general (local, regional and central, cu...</td>\n",
       "      <td>b'UNESCO Institute for Statistics'</td>\n",
       "      <td></td>\n",
       "    </tr>\n",
       "    <tr>\n",
       "      <th>20291</th>\n",
       "      <td>UIS.XUNIT.GDPCAP.5T8.FSGOV</td>\n",
       "      <td>Initial government funding per tertiary studen...</td>\n",
       "      <td></td>\n",
       "      <td>Education Statistics</td>\n",
       "      <td>Total general (local, regional and central, cu...</td>\n",
       "      <td>b'UNESCO Institute for Statistics'</td>\n",
       "      <td></td>\n",
       "    </tr>\n",
       "    <tr>\n",
       "      <th>20292</th>\n",
       "      <td>UIS.XUNIT.GDPCAP.5T8.FSHH</td>\n",
       "      <td>Initial household funding per tertiary student...</td>\n",
       "      <td></td>\n",
       "      <td>Education Statistics</td>\n",
       "      <td>Total payments of households (pupils, students...</td>\n",
       "      <td>b'UNESCO Institute for Statistics'</td>\n",
       "      <td></td>\n",
       "    </tr>\n",
       "  </tbody>\n",
       "</table>\n",
       "</div>"
      ],
      "text/plain": [
       "                               id  \\\n",
       "691            6.0.GDPpc_constant   \n",
       "2410               CC.GHG.MEMG.GC   \n",
       "6386            FB.DPT.INSU.PC.ZS   \n",
       "10672              NE.GDI.FTOT.CR   \n",
       "10679        NE.GDI.FTOT.SNA08.CR   \n",
       "10756           NV.AGR.PCAP.KD.ZG   \n",
       "10976              NY.GDP.PCAP.CD   \n",
       "10977              NY.GDP.PCAP.CN   \n",
       "10978              NY.GDP.PCAP.KD   \n",
       "10979           NY.GDP.PCAP.KD.ZG   \n",
       "10980              NY.GDP.PCAP.KN   \n",
       "10981           NY.GDP.PCAP.PP.CD   \n",
       "10982           NY.GDP.PCAP.PP.KD   \n",
       "10983        NY.GDP.PCAP.PP.KD.87   \n",
       "10984        NY.GDP.PCAP.PP.KD.ZG   \n",
       "11203              PER.ALL.PS.GDP   \n",
       "11280              PER.BAS.PS.GDP   \n",
       "11347               PER.JR.PS.GDP   \n",
       "11490               PER.PP.PS.GDP   \n",
       "11557              PER.PRM.PS.GDP   \n",
       "11651              PER.SEC.PS.GDP   \n",
       "11886               PER.SR.PS.GDP   \n",
       "11943              PER.TER.PS.GDP   \n",
       "11990               PER.TT.PS.GDP   \n",
       "12010              PER.VOC.PS.GDP   \n",
       "15710               SE.PRM.SATT.2   \n",
       "15774               SE.PRM.TATT.1   \n",
       "16007           SE.XPD.PRIM.PC.ZS   \n",
       "16011           SE.XPD.SECO.PC.ZS   \n",
       "16016           SE.XPD.TERT.PC.ZS   \n",
       "20284   UIS.XUNIT.GDPCAP.02.FSGOV   \n",
       "20285    UIS.XUNIT.GDPCAP.1.FSGOV   \n",
       "20286     UIS.XUNIT.GDPCAP.1.FSHH   \n",
       "20287    UIS.XUNIT.GDPCAP.2.FSGOV   \n",
       "20288   UIS.XUNIT.GDPCAP.23.FSGOV   \n",
       "20289    UIS.XUNIT.GDPCAP.23.FSHH   \n",
       "20290    UIS.XUNIT.GDPCAP.3.FSGOV   \n",
       "20291  UIS.XUNIT.GDPCAP.5T8.FSGOV   \n",
       "20292   UIS.XUNIT.GDPCAP.5T8.FSHH   \n",
       "\n",
       "                                                    name unit  \\\n",
       "691    GDP per capita, PPP (constant 2011 internation...        \n",
       "2410   Macro drivers of GHG emissions growth in the p...        \n",
       "6386    Deposit insurance coverage (% of GDP per capita)        \n",
       "10672  GDP expenditure on gross fixed capital formati...        \n",
       "10679  GDP expenditure on gross fixed capital formati...        \n",
       "10756   Real agricultural GDP per capita growth rate (%)        \n",
       "10976                       GDP per capita (current US$)        \n",
       "10977                       GDP per capita (current LCU)        \n",
       "10978                 GDP per capita (constant 2015 US$)        \n",
       "10979                   GDP per capita growth (annual %)        \n",
       "10980                      GDP per capita (constant LCU)        \n",
       "10981      GDP per capita, PPP (current international $)        \n",
       "10982  GDP per capita, PPP (constant 2017 internation...        \n",
       "10983  GDP per capita, PPP (constant 1987 internation...        \n",
       "10984              GDP per capita, PPP annual growth (%)        \n",
       "11203  World Bank: Public education expenditure per s...        \n",
       "11280  World Bank: Public education expenditure per s...        \n",
       "11347  World Bank: Public education expenditure per s...        \n",
       "11490  World Bank: Public education expenditure per s...        \n",
       "11557  World Bank: Public education expenditure per s...        \n",
       "11651  World Bank: Public education expenditure per s...        \n",
       "11886  World Bank: Public education expenditure per s...        \n",
       "11943  World Bank: Public education expenditure per s...        \n",
       "11990  World Bank: Public education expenditure per s...        \n",
       "12010  World Bank: Public education expenditure per s...        \n",
       "15710  (De Facto) Average principal salary as percent...        \n",
       "15774  (De Jure) Average starting public-school teach...        \n",
       "16007  Government expenditure per student, primary (%...        \n",
       "16011  Government expenditure per student, secondary ...        \n",
       "16016  Government expenditure per student, tertiary (...        \n",
       "20284  Initial government funding per pre-primary stu...        \n",
       "20285  Initial government funding per primary student...        \n",
       "20286  Initial household funding per primary student ...        \n",
       "20287  Initial government funding per lower secondary...        \n",
       "20288  Initial government funding per secondary stude...        \n",
       "20289  Initial household funding per secondary studen...        \n",
       "20290  Initial government funding per upper secondary...        \n",
       "20291  Initial government funding per tertiary studen...        \n",
       "20292  Initial household funding per tertiary student...        \n",
       "\n",
       "                                                  source  \\\n",
       "691                                       LAC Equity Lab   \n",
       "2410       Country Climate and Development Report (CCDR)   \n",
       "6386                               WDI Database Archives   \n",
       "10672  Indonesia Database for Policy and Economic Res...   \n",
       "10679  Indonesia Database for Policy and Economic Res...   \n",
       "10756                      Africa Development Indicators   \n",
       "10976                       World Development Indicators   \n",
       "10977                       World Development Indicators   \n",
       "10978                       World Development Indicators   \n",
       "10979                       World Development Indicators   \n",
       "10980                       World Development Indicators   \n",
       "10981                       World Development Indicators   \n",
       "10982                       World Development Indicators   \n",
       "10983                              WDI Database Archives   \n",
       "10984                      Africa Development Indicators   \n",
       "11203                               Education Statistics   \n",
       "11280                               Education Statistics   \n",
       "11347                               Education Statistics   \n",
       "11490                               Education Statistics   \n",
       "11557                               Education Statistics   \n",
       "11651                               Education Statistics   \n",
       "11886                               Education Statistics   \n",
       "11943                               Education Statistics   \n",
       "11990                               Education Statistics   \n",
       "12010                               Education Statistics   \n",
       "15710                               Education Statistics   \n",
       "15774                               Education Statistics   \n",
       "16007                       World Development Indicators   \n",
       "16011                       World Development Indicators   \n",
       "16016                       World Development Indicators   \n",
       "20284                               Education Statistics   \n",
       "20285                               Education Statistics   \n",
       "20286                               Education Statistics   \n",
       "20287                               Education Statistics   \n",
       "20288                               Education Statistics   \n",
       "20289                               Education Statistics   \n",
       "20290                               Education Statistics   \n",
       "20291                               Education Statistics   \n",
       "20292                               Education Statistics   \n",
       "\n",
       "                                              sourceNote  \\\n",
       "691    GDP per capita based on purchasing power parit...   \n",
       "2410   Data reflects the impact of GDP-per capita (as...   \n",
       "6386                                                       \n",
       "10672  Gross fixed capital formation is expenditure f...   \n",
       "10679                                                      \n",
       "10756  The growth rate of real per capita GDP in agri...   \n",
       "10976  GDP per capita is gross domestic product divid...   \n",
       "10977  GDP per capita is gross domestic product divid...   \n",
       "10978  GDP per capita is gross domestic product divid...   \n",
       "10979  Annual percentage growth rate of GDP per capit...   \n",
       "10980  GDP per capita is gross domestic product divid...   \n",
       "10981  This indicator provides per capita values for ...   \n",
       "10982  GDP per capita based on purchasing power parit...   \n",
       "10983                                                      \n",
       "10984  Annual percentage growth rate of GDP per capit...   \n",
       "11203                                                      \n",
       "11280                                                      \n",
       "11347                                                      \n",
       "11490                                                      \n",
       "11557                                                      \n",
       "11651                                                      \n",
       "11886                                                      \n",
       "11943                                                      \n",
       "11990                                                      \n",
       "12010                                                      \n",
       "15710                                                      \n",
       "15774                                                      \n",
       "16007  Government expenditure per student is the aver...   \n",
       "16011  Government expenditure per student is the aver...   \n",
       "16016  Government expenditure per student is the aver...   \n",
       "20284  Total general (local, regional and central, cu...   \n",
       "20285  Total general (local, regional and central, cu...   \n",
       "20286  Total payments of households (pupils, students...   \n",
       "20287  Total general (local, regional and central, cu...   \n",
       "20288  Total general (local, regional and central, cu...   \n",
       "20289  Total payments of households (pupils, students...   \n",
       "20290  Total general (local, regional and central, cu...   \n",
       "20291  Total general (local, regional and central, cu...   \n",
       "20292  Total payments of households (pupils, students...   \n",
       "\n",
       "                                      sourceOrganization            topics  \n",
       "691         b'World Development Indicators (World Bank)'  Economy & Growth  \n",
       "2410   b'Climate Watch. 2020. Washington, DC: World R...                    \n",
       "6386                                                 b''                    \n",
       "10672    b'BADAN PUSAT STATISTIK - Statistics Indonesia'                    \n",
       "10679                                                b''                    \n",
       "10756                  b'World Bank country economists.'                    \n",
       "10976  b'World Bank national accounts data, and OECD ...  Economy & Growth  \n",
       "10977  b'World Bank national accounts data, and OECD ...  Economy & Growth  \n",
       "10978  b'World Bank national accounts data, and OECD ...  Economy & Growth  \n",
       "10979  b'World Bank national accounts data, and OECD ...  Economy & Growth  \n",
       "10980  b'World Bank national accounts data, and OECD ...  Economy & Growth  \n",
       "10981  b'International Comparison Program, World Bank...  Economy & Growth  \n",
       "10982  b'International Comparison Program, World Bank...  Economy & Growth  \n",
       "10983                                                b''                    \n",
       "10984  b'\"World Bank, International Comparison Progra...                    \n",
       "11203                                                b''                    \n",
       "11280                                                b''                    \n",
       "11347                                                b''                    \n",
       "11490                                                b''                    \n",
       "11557                                                b''                    \n",
       "11651                                                b''                    \n",
       "11886                                                b''                    \n",
       "11943                                                b''                    \n",
       "11990                                                b''                    \n",
       "12010                                                b''                    \n",
       "15710   b'World Bank, Global Education Policy Dashboard'                    \n",
       "15774   b'World Bank, Global Education Policy Dashboard'                    \n",
       "16007  b'UNESCO Institute for Statistics (http://uis....        Education   \n",
       "16011  b'UNESCO Institute for Statistics (http://uis....        Education   \n",
       "16016  b'UNESCO Institute for Statistics (http://uis....        Education   \n",
       "20284                 b'UNESCO Institute for Statistics'                    \n",
       "20285                 b'UNESCO Institute for Statistics'                    \n",
       "20286                 b'UNESCO Institute for Statistics'                    \n",
       "20287                 b'UNESCO Institute for Statistics'                    \n",
       "20288                 b'UNESCO Institute for Statistics'                    \n",
       "20289                 b'UNESCO Institute for Statistics'                    \n",
       "20290                 b'UNESCO Institute for Statistics'                    \n",
       "20291                 b'UNESCO Institute for Statistics'                    \n",
       "20292                 b'UNESCO Institute for Statistics'                    "
      ]
     },
     "execution_count": 3,
     "metadata": {},
     "output_type": "execute_result"
    }
   ],
   "source": [
    "wb.search()"
   ]
  },
  {
   "cell_type": "code",
   "execution_count": 4,
   "id": "406e5460",
   "metadata": {
    "slideshow": {
     "slide_type": "slide"
    }
   },
   "outputs": [
    {
     "data": {
      "text/html": [
       "<div>\n",
       "<style scoped>\n",
       "    .dataframe tbody tr th:only-of-type {\n",
       "        vertical-align: middle;\n",
       "    }\n",
       "\n",
       "    .dataframe tbody tr th {\n",
       "        vertical-align: top;\n",
       "    }\n",
       "\n",
       "    .dataframe thead th {\n",
       "        text-align: right;\n",
       "    }\n",
       "</style>\n",
       "<table border=\"1\" class=\"dataframe\">\n",
       "  <thead>\n",
       "    <tr style=\"text-align: right;\">\n",
       "      <th></th>\n",
       "      <th>id</th>\n",
       "      <th>name</th>\n",
       "      <th>unit</th>\n",
       "      <th>source</th>\n",
       "      <th>sourceNote</th>\n",
       "      <th>sourceOrganization</th>\n",
       "      <th>topics</th>\n",
       "    </tr>\n",
       "  </thead>\n",
       "  <tbody>\n",
       "    <tr>\n",
       "      <th>16008</th>\n",
       "      <td>SE.XPD.PRIM.ZS</td>\n",
       "      <td>Expenditure on primary education (% of governm...</td>\n",
       "      <td></td>\n",
       "      <td>World Development Indicators</td>\n",
       "      <td>Expenditure on primary education is expressed ...</td>\n",
       "      <td>b'UNESCO Institute for Statistics (http://uis....</td>\n",
       "      <td>Education</td>\n",
       "    </tr>\n",
       "    <tr>\n",
       "      <th>16012</th>\n",
       "      <td>SE.XPD.SECO.ZS</td>\n",
       "      <td>Expenditure on secondary education (% of gover...</td>\n",
       "      <td></td>\n",
       "      <td>World Development Indicators</td>\n",
       "      <td>Expenditure on secondary education is expresse...</td>\n",
       "      <td>b'UNESCO Institute for Statistics (http://uis....</td>\n",
       "      <td>Education</td>\n",
       "    </tr>\n",
       "    <tr>\n",
       "      <th>16017</th>\n",
       "      <td>SE.XPD.TERT.ZS</td>\n",
       "      <td>Expenditure on tertiary education (% of govern...</td>\n",
       "      <td></td>\n",
       "      <td>World Development Indicators</td>\n",
       "      <td>Expenditure on tertiary education is expressed...</td>\n",
       "      <td>b'UNESCO Institute for Statistics (http://uis....</td>\n",
       "      <td>Education</td>\n",
       "    </tr>\n",
       "    <tr>\n",
       "      <th>16018</th>\n",
       "      <td>SE.XPD.TOTL.GB.ZS</td>\n",
       "      <td>Government expenditure on education, total (% ...</td>\n",
       "      <td></td>\n",
       "      <td>World Development Indicators</td>\n",
       "      <td>General government expenditure on education (c...</td>\n",
       "      <td>b'UNESCO Institute for Statistics (UIS). UIS.S...</td>\n",
       "      <td>Education</td>\n",
       "    </tr>\n",
       "    <tr>\n",
       "      <th>16019</th>\n",
       "      <td>SE.XPD.TOTL.GD.ZS</td>\n",
       "      <td>Government expenditure on education, total (% ...</td>\n",
       "      <td></td>\n",
       "      <td>World Development Indicators</td>\n",
       "      <td>General government expenditure on education (c...</td>\n",
       "      <td>b'UNESCO Institute for Statistics (UIS). UIS.S...</td>\n",
       "      <td>Education</td>\n",
       "    </tr>\n",
       "    <tr>\n",
       "      <th>20195</th>\n",
       "      <td>UIS.X.PPP.FSGOV</td>\n",
       "      <td>Government expenditure on education, PPP$ (mil...</td>\n",
       "      <td></td>\n",
       "      <td>Education Statistics</td>\n",
       "      <td>Total general (local, regional and central) go...</td>\n",
       "      <td>b'UNESCO Institute for Statistics'</td>\n",
       "      <td></td>\n",
       "    </tr>\n",
       "    <tr>\n",
       "      <th>20196</th>\n",
       "      <td>UIS.X.PPP.UK.FSGOV</td>\n",
       "      <td>Government expenditure on education not specif...</td>\n",
       "      <td></td>\n",
       "      <td>Education Statistics</td>\n",
       "      <td>Total general (local, regional and central) go...</td>\n",
       "      <td>b'UNESCO Institute for Statistics'</td>\n",
       "      <td></td>\n",
       "    </tr>\n",
       "    <tr>\n",
       "      <th>20205</th>\n",
       "      <td>UIS.X.PPPCONST.FSGOV</td>\n",
       "      <td>Government expenditure on education, constant ...</td>\n",
       "      <td></td>\n",
       "      <td>Education Statistics</td>\n",
       "      <td>Total general (local, regional and central) go...</td>\n",
       "      <td>b'UNESCO Institute for Statistics'</td>\n",
       "      <td></td>\n",
       "    </tr>\n",
       "    <tr>\n",
       "      <th>20206</th>\n",
       "      <td>UIS.X.PPPCONST.UK.FSGOV</td>\n",
       "      <td>Government expenditure on education not specif...</td>\n",
       "      <td></td>\n",
       "      <td>Education Statistics</td>\n",
       "      <td>Total general (local, regional and central) go...</td>\n",
       "      <td>b'UNESCO Institute for Statistics'</td>\n",
       "      <td></td>\n",
       "    </tr>\n",
       "    <tr>\n",
       "      <th>20215</th>\n",
       "      <td>UIS.X.US.FSGOV</td>\n",
       "      <td>Government expenditure on education, US$ (mill...</td>\n",
       "      <td></td>\n",
       "      <td>Education Statistics</td>\n",
       "      <td>Total general (local, regional and central) go...</td>\n",
       "      <td>b'UNESCO Institute for Statistics'</td>\n",
       "      <td></td>\n",
       "    </tr>\n",
       "    <tr>\n",
       "      <th>20216</th>\n",
       "      <td>UIS.X.US.UK.FSGOV</td>\n",
       "      <td>Government expenditure on education not specif...</td>\n",
       "      <td></td>\n",
       "      <td>Education Statistics</td>\n",
       "      <td>Total general (local, regional and central) go...</td>\n",
       "      <td>b'UNESCO Institute for Statistics'</td>\n",
       "      <td></td>\n",
       "    </tr>\n",
       "    <tr>\n",
       "      <th>20225</th>\n",
       "      <td>UIS.X.USCONST.FSGOV</td>\n",
       "      <td>Government expenditure on education, constant ...</td>\n",
       "      <td></td>\n",
       "      <td>Education Statistics</td>\n",
       "      <td>Total general (local, regional and central) go...</td>\n",
       "      <td>b'UNESCO Institute for Statistics'</td>\n",
       "      <td></td>\n",
       "    </tr>\n",
       "    <tr>\n",
       "      <th>20226</th>\n",
       "      <td>UIS.X.USCONST.UK.FSGOV</td>\n",
       "      <td>Government expenditure on education not specif...</td>\n",
       "      <td></td>\n",
       "      <td>Education Statistics</td>\n",
       "      <td>Total general (local, regional and central) go...</td>\n",
       "      <td>b'UNESCO Institute for Statistics'</td>\n",
       "      <td></td>\n",
       "    </tr>\n",
       "  </tbody>\n",
       "</table>\n",
       "</div>"
      ],
      "text/plain": [
       "                            id  \\\n",
       "16008           SE.XPD.PRIM.ZS   \n",
       "16012           SE.XPD.SECO.ZS   \n",
       "16017           SE.XPD.TERT.ZS   \n",
       "16018        SE.XPD.TOTL.GB.ZS   \n",
       "16019        SE.XPD.TOTL.GD.ZS   \n",
       "20195          UIS.X.PPP.FSGOV   \n",
       "20196       UIS.X.PPP.UK.FSGOV   \n",
       "20205     UIS.X.PPPCONST.FSGOV   \n",
       "20206  UIS.X.PPPCONST.UK.FSGOV   \n",
       "20215           UIS.X.US.FSGOV   \n",
       "20216        UIS.X.US.UK.FSGOV   \n",
       "20225      UIS.X.USCONST.FSGOV   \n",
       "20226   UIS.X.USCONST.UK.FSGOV   \n",
       "\n",
       "                                                    name unit  \\\n",
       "16008  Expenditure on primary education (% of governm...        \n",
       "16012  Expenditure on secondary education (% of gover...        \n",
       "16017  Expenditure on tertiary education (% of govern...        \n",
       "16018  Government expenditure on education, total (% ...        \n",
       "16019  Government expenditure on education, total (% ...        \n",
       "20195  Government expenditure on education, PPP$ (mil...        \n",
       "20196  Government expenditure on education not specif...        \n",
       "20205  Government expenditure on education, constant ...        \n",
       "20206  Government expenditure on education not specif...        \n",
       "20215  Government expenditure on education, US$ (mill...        \n",
       "20216  Government expenditure on education not specif...        \n",
       "20225  Government expenditure on education, constant ...        \n",
       "20226  Government expenditure on education not specif...        \n",
       "\n",
       "                             source  \\\n",
       "16008  World Development Indicators   \n",
       "16012  World Development Indicators   \n",
       "16017  World Development Indicators   \n",
       "16018  World Development Indicators   \n",
       "16019  World Development Indicators   \n",
       "20195          Education Statistics   \n",
       "20196          Education Statistics   \n",
       "20205          Education Statistics   \n",
       "20206          Education Statistics   \n",
       "20215          Education Statistics   \n",
       "20216          Education Statistics   \n",
       "20225          Education Statistics   \n",
       "20226          Education Statistics   \n",
       "\n",
       "                                              sourceNote  \\\n",
       "16008  Expenditure on primary education is expressed ...   \n",
       "16012  Expenditure on secondary education is expresse...   \n",
       "16017  Expenditure on tertiary education is expressed...   \n",
       "16018  General government expenditure on education (c...   \n",
       "16019  General government expenditure on education (c...   \n",
       "20195  Total general (local, regional and central) go...   \n",
       "20196  Total general (local, regional and central) go...   \n",
       "20205  Total general (local, regional and central) go...   \n",
       "20206  Total general (local, regional and central) go...   \n",
       "20215  Total general (local, regional and central) go...   \n",
       "20216  Total general (local, regional and central) go...   \n",
       "20225  Total general (local, regional and central) go...   \n",
       "20226  Total general (local, regional and central) go...   \n",
       "\n",
       "                                      sourceOrganization      topics  \n",
       "16008  b'UNESCO Institute for Statistics (http://uis....  Education   \n",
       "16012  b'UNESCO Institute for Statistics (http://uis....  Education   \n",
       "16017  b'UNESCO Institute for Statistics (http://uis....  Education   \n",
       "16018  b'UNESCO Institute for Statistics (UIS). UIS.S...  Education   \n",
       "16019  b'UNESCO Institute for Statistics (UIS). UIS.S...  Education   \n",
       "20195                 b'UNESCO Institute for Statistics'              \n",
       "20196                 b'UNESCO Institute for Statistics'              \n",
       "20205                 b'UNESCO Institute for Statistics'              \n",
       "20206                 b'UNESCO Institute for Statistics'              \n",
       "20215                 b'UNESCO Institute for Statistics'              \n",
       "20216                 b'UNESCO Institute for Statistics'              \n",
       "20225                 b'UNESCO Institute for Statistics'              \n",
       "20226                 b'UNESCO Institute for Statistics'              "
      ]
     },
     "execution_count": 4,
     "metadata": {},
     "output_type": "execute_result"
    }
   ],
   "source": [
    "wb.search('government expenditure on education')"
   ]
  },
  {
   "cell_type": "code",
   "execution_count": 5,
   "id": "610861cf",
   "metadata": {
    "scrolled": false,
    "slideshow": {
     "slide_type": "slide"
    }
   },
   "outputs": [
    {
     "data": {
      "text/html": [
       "<div>\n",
       "<style scoped>\n",
       "    .dataframe tbody tr th:only-of-type {\n",
       "        vertical-align: middle;\n",
       "    }\n",
       "\n",
       "    .dataframe tbody tr th {\n",
       "        vertical-align: top;\n",
       "    }\n",
       "\n",
       "    .dataframe thead th {\n",
       "        text-align: right;\n",
       "    }\n",
       "</style>\n",
       "<table border=\"1\" class=\"dataframe\">\n",
       "  <thead>\n",
       "    <tr style=\"text-align: right;\">\n",
       "      <th></th>\n",
       "      <th>id</th>\n",
       "      <th>name</th>\n",
       "    </tr>\n",
       "  </thead>\n",
       "  <tbody>\n",
       "    <tr>\n",
       "      <th>16018</th>\n",
       "      <td>SE.XPD.TOTL.GB.ZS</td>\n",
       "      <td>Government expenditure on education, total (% ...</td>\n",
       "    </tr>\n",
       "    <tr>\n",
       "      <th>16019</th>\n",
       "      <td>SE.XPD.TOTL.GD.ZS</td>\n",
       "      <td>Government expenditure on education, total (% ...</td>\n",
       "    </tr>\n",
       "  </tbody>\n",
       "</table>\n",
       "</div>"
      ],
      "text/plain": [
       "                      id                                               name\n",
       "16018  SE.XPD.TOTL.GB.ZS  Government expenditure on education, total (% ...\n",
       "16019  SE.XPD.TOTL.GD.ZS  Government expenditure on education, total (% ..."
      ]
     },
     "execution_count": 5,
     "metadata": {},
     "output_type": "execute_result"
    }
   ],
   "source": [
    "wb.search('government expenditure on education, total').iloc[:,:2]"
   ]
  },
  {
   "cell_type": "code",
   "execution_count": 6,
   "id": "c4bc7513",
   "metadata": {
    "scrolled": true,
    "slideshow": {
     "slide_type": "slide"
    }
   },
   "outputs": [
    {
     "data": {
      "text/html": [
       "<div>\n",
       "<style scoped>\n",
       "    .dataframe tbody tr th:only-of-type {\n",
       "        vertical-align: middle;\n",
       "    }\n",
       "\n",
       "    .dataframe tbody tr th {\n",
       "        vertical-align: top;\n",
       "    }\n",
       "\n",
       "    .dataframe thead th {\n",
       "        text-align: right;\n",
       "    }\n",
       "</style>\n",
       "<table border=\"1\" class=\"dataframe\">\n",
       "  <thead>\n",
       "    <tr style=\"text-align: right;\">\n",
       "      <th></th>\n",
       "      <th></th>\n",
       "      <th>SE.XPD.TOTL.GD.ZS</th>\n",
       "    </tr>\n",
       "    <tr>\n",
       "      <th>country</th>\n",
       "      <th>year</th>\n",
       "      <th></th>\n",
       "    </tr>\n",
       "  </thead>\n",
       "  <tbody>\n",
       "    <tr>\n",
       "      <th rowspan=\"7\" valign=\"top\">China</th>\n",
       "      <th>2020</th>\n",
       "      <td>3.572956</td>\n",
       "    </tr>\n",
       "    <tr>\n",
       "      <th>2019</th>\n",
       "      <td>3.541055</td>\n",
       "    </tr>\n",
       "    <tr>\n",
       "      <th>2018</th>\n",
       "      <td>3.542495</td>\n",
       "    </tr>\n",
       "    <tr>\n",
       "      <th>2017</th>\n",
       "      <td>3.667450</td>\n",
       "    </tr>\n",
       "    <tr>\n",
       "      <th>2016</th>\n",
       "      <td>3.761116</td>\n",
       "    </tr>\n",
       "    <tr>\n",
       "      <th>2015</th>\n",
       "      <td>3.813830</td>\n",
       "    </tr>\n",
       "    <tr>\n",
       "      <th>2014</th>\n",
       "      <td>3.580334</td>\n",
       "    </tr>\n",
       "  </tbody>\n",
       "</table>\n",
       "</div>"
      ],
      "text/plain": [
       "              SE.XPD.TOTL.GD.ZS\n",
       "country year                   \n",
       "China   2020           3.572956\n",
       "        2019           3.541055\n",
       "        2018           3.542495\n",
       "        2017           3.667450\n",
       "        2016           3.761116\n",
       "        2015           3.813830\n",
       "        2014           3.580334"
      ]
     },
     "execution_count": 6,
     "metadata": {},
     "output_type": "execute_result"
    }
   ],
   "source": [
    "paises = ['CR', 'US', 'CN']\n",
    "base = wb.download(indicator='SE.XPD.TOTL.GD.ZS',\n",
    "                    country=paises,start=2010, end=2020)\n",
    "\n",
    "base.head(7)"
   ]
  },
  {
   "cell_type": "code",
   "execution_count": 7,
   "id": "8d40fe07",
   "metadata": {
    "scrolled": true,
    "slideshow": {
     "slide_type": "slide"
    }
   },
   "outputs": [
    {
     "data": {
      "text/html": [
       "<div>\n",
       "<style scoped>\n",
       "    .dataframe tbody tr th:only-of-type {\n",
       "        vertical-align: middle;\n",
       "    }\n",
       "\n",
       "    .dataframe tbody tr th {\n",
       "        vertical-align: top;\n",
       "    }\n",
       "\n",
       "    .dataframe thead th {\n",
       "        text-align: right;\n",
       "    }\n",
       "</style>\n",
       "<table border=\"1\" class=\"dataframe\">\n",
       "  <thead>\n",
       "    <tr style=\"text-align: right;\">\n",
       "      <th></th>\n",
       "      <th></th>\n",
       "      <th>SE.XPD.TOTL.GD.ZS</th>\n",
       "    </tr>\n",
       "    <tr>\n",
       "      <th>country</th>\n",
       "      <th>year</th>\n",
       "      <th></th>\n",
       "    </tr>\n",
       "  </thead>\n",
       "  <tbody>\n",
       "    <tr>\n",
       "      <th rowspan=\"11\" valign=\"top\">China</th>\n",
       "      <th>2020</th>\n",
       "      <td>3.572956</td>\n",
       "    </tr>\n",
       "    <tr>\n",
       "      <th>2019</th>\n",
       "      <td>3.541055</td>\n",
       "    </tr>\n",
       "    <tr>\n",
       "      <th>2018</th>\n",
       "      <td>3.542495</td>\n",
       "    </tr>\n",
       "    <tr>\n",
       "      <th>2017</th>\n",
       "      <td>3.667450</td>\n",
       "    </tr>\n",
       "    <tr>\n",
       "      <th>2016</th>\n",
       "      <td>3.761116</td>\n",
       "    </tr>\n",
       "    <tr>\n",
       "      <th>2015</th>\n",
       "      <td>3.813830</td>\n",
       "    </tr>\n",
       "    <tr>\n",
       "      <th>2014</th>\n",
       "      <td>3.580334</td>\n",
       "    </tr>\n",
       "    <tr>\n",
       "      <th>2013</th>\n",
       "      <td>3.710476</td>\n",
       "    </tr>\n",
       "    <tr>\n",
       "      <th>2012</th>\n",
       "      <td>3.944094</td>\n",
       "    </tr>\n",
       "    <tr>\n",
       "      <th>2011</th>\n",
       "      <td>3.521965</td>\n",
       "    </tr>\n",
       "    <tr>\n",
       "      <th>2010</th>\n",
       "      <td>3.754642</td>\n",
       "    </tr>\n",
       "    <tr>\n",
       "      <th rowspan=\"11\" valign=\"top\">Costa Rica</th>\n",
       "      <th>2020</th>\n",
       "      <td>6.628980</td>\n",
       "    </tr>\n",
       "    <tr>\n",
       "      <th>2019</th>\n",
       "      <td>6.738080</td>\n",
       "    </tr>\n",
       "    <tr>\n",
       "      <th>2018</th>\n",
       "      <td>6.769920</td>\n",
       "    </tr>\n",
       "    <tr>\n",
       "      <th>2017</th>\n",
       "      <td>7.069810</td>\n",
       "    </tr>\n",
       "    <tr>\n",
       "      <th>2016</th>\n",
       "      <td>6.893960</td>\n",
       "    </tr>\n",
       "    <tr>\n",
       "      <th>2015</th>\n",
       "      <td>6.873500</td>\n",
       "    </tr>\n",
       "    <tr>\n",
       "      <th>2014</th>\n",
       "      <td>6.679520</td>\n",
       "    </tr>\n",
       "    <tr>\n",
       "      <th>2013</th>\n",
       "      <td>6.687400</td>\n",
       "    </tr>\n",
       "    <tr>\n",
       "      <th>2012</th>\n",
       "      <td>6.582400</td>\n",
       "    </tr>\n",
       "    <tr>\n",
       "      <th>2011</th>\n",
       "      <td>6.379890</td>\n",
       "    </tr>\n",
       "    <tr>\n",
       "      <th>2010</th>\n",
       "      <td>6.565740</td>\n",
       "    </tr>\n",
       "    <tr>\n",
       "      <th rowspan=\"11\" valign=\"top\">United States</th>\n",
       "      <th>2020</th>\n",
       "      <td>5.435440</td>\n",
       "    </tr>\n",
       "    <tr>\n",
       "      <th>2019</th>\n",
       "      <td>4.987280</td>\n",
       "    </tr>\n",
       "    <tr>\n",
       "      <th>2018</th>\n",
       "      <td>4.928890</td>\n",
       "    </tr>\n",
       "    <tr>\n",
       "      <th>2017</th>\n",
       "      <td>5.122880</td>\n",
       "    </tr>\n",
       "    <tr>\n",
       "      <th>2016</th>\n",
       "      <td>4.806660</td>\n",
       "    </tr>\n",
       "    <tr>\n",
       "      <th>2015</th>\n",
       "      <td>4.946780</td>\n",
       "    </tr>\n",
       "    <tr>\n",
       "      <th>2014</th>\n",
       "      <td>6.129206</td>\n",
       "    </tr>\n",
       "    <tr>\n",
       "      <th>2013</th>\n",
       "      <td>6.229258</td>\n",
       "    </tr>\n",
       "    <tr>\n",
       "      <th>2012</th>\n",
       "      <td>6.253886</td>\n",
       "    </tr>\n",
       "    <tr>\n",
       "      <th>2011</th>\n",
       "      <td>6.497684</td>\n",
       "    </tr>\n",
       "    <tr>\n",
       "      <th>2010</th>\n",
       "      <td>6.694554</td>\n",
       "    </tr>\n",
       "  </tbody>\n",
       "</table>\n",
       "</div>"
      ],
      "text/plain": [
       "                    SE.XPD.TOTL.GD.ZS\n",
       "country       year                   \n",
       "China         2020           3.572956\n",
       "              2019           3.541055\n",
       "              2018           3.542495\n",
       "              2017           3.667450\n",
       "              2016           3.761116\n",
       "              2015           3.813830\n",
       "              2014           3.580334\n",
       "              2013           3.710476\n",
       "              2012           3.944094\n",
       "              2011           3.521965\n",
       "              2010           3.754642\n",
       "Costa Rica    2020           6.628980\n",
       "              2019           6.738080\n",
       "              2018           6.769920\n",
       "              2017           7.069810\n",
       "              2016           6.893960\n",
       "              2015           6.873500\n",
       "              2014           6.679520\n",
       "              2013           6.687400\n",
       "              2012           6.582400\n",
       "              2011           6.379890\n",
       "              2010           6.565740\n",
       "United States 2020           5.435440\n",
       "              2019           4.987280\n",
       "              2018           4.928890\n",
       "              2017           5.122880\n",
       "              2016           4.806660\n",
       "              2015           4.946780\n",
       "              2014           6.129206\n",
       "              2013           6.229258\n",
       "              2012           6.253886\n",
       "              2011           6.497684\n",
       "              2010           6.694554"
      ]
     },
     "execution_count": 7,
     "metadata": {},
     "output_type": "execute_result"
    }
   ],
   "source": [
    "base"
   ]
  },
  {
   "cell_type": "code",
   "execution_count": 8,
   "id": "c5e8fe62",
   "metadata": {
    "slideshow": {
     "slide_type": "slide"
    }
   },
   "outputs": [
    {
     "data": {
      "text/html": [
       "<div>\n",
       "<style scoped>\n",
       "    .dataframe tbody tr th:only-of-type {\n",
       "        vertical-align: middle;\n",
       "    }\n",
       "\n",
       "    .dataframe tbody tr th {\n",
       "        vertical-align: top;\n",
       "    }\n",
       "\n",
       "    .dataframe thead tr th {\n",
       "        text-align: left;\n",
       "    }\n",
       "\n",
       "    .dataframe thead tr:last-of-type th {\n",
       "        text-align: right;\n",
       "    }\n",
       "</style>\n",
       "<table border=\"1\" class=\"dataframe\">\n",
       "  <thead>\n",
       "    <tr>\n",
       "      <th></th>\n",
       "      <th colspan=\"3\" halign=\"left\">SE.XPD.TOTL.GD.ZS</th>\n",
       "    </tr>\n",
       "    <tr>\n",
       "      <th>country</th>\n",
       "      <th>China</th>\n",
       "      <th>Costa Rica</th>\n",
       "      <th>United States</th>\n",
       "    </tr>\n",
       "    <tr>\n",
       "      <th>year</th>\n",
       "      <th></th>\n",
       "      <th></th>\n",
       "      <th></th>\n",
       "    </tr>\n",
       "  </thead>\n",
       "  <tbody>\n",
       "    <tr>\n",
       "      <th>2010</th>\n",
       "      <td>3.754642</td>\n",
       "      <td>6.56574</td>\n",
       "      <td>6.694554</td>\n",
       "    </tr>\n",
       "    <tr>\n",
       "      <th>2011</th>\n",
       "      <td>3.521965</td>\n",
       "      <td>6.37989</td>\n",
       "      <td>6.497684</td>\n",
       "    </tr>\n",
       "    <tr>\n",
       "      <th>2012</th>\n",
       "      <td>3.944094</td>\n",
       "      <td>6.58240</td>\n",
       "      <td>6.253886</td>\n",
       "    </tr>\n",
       "    <tr>\n",
       "      <th>2013</th>\n",
       "      <td>3.710476</td>\n",
       "      <td>6.68740</td>\n",
       "      <td>6.229258</td>\n",
       "    </tr>\n",
       "    <tr>\n",
       "      <th>2014</th>\n",
       "      <td>3.580334</td>\n",
       "      <td>6.67952</td>\n",
       "      <td>6.129206</td>\n",
       "    </tr>\n",
       "    <tr>\n",
       "      <th>2015</th>\n",
       "      <td>3.813830</td>\n",
       "      <td>6.87350</td>\n",
       "      <td>4.946780</td>\n",
       "    </tr>\n",
       "    <tr>\n",
       "      <th>2016</th>\n",
       "      <td>3.761116</td>\n",
       "      <td>6.89396</td>\n",
       "      <td>4.806660</td>\n",
       "    </tr>\n",
       "    <tr>\n",
       "      <th>2017</th>\n",
       "      <td>3.667450</td>\n",
       "      <td>7.06981</td>\n",
       "      <td>5.122880</td>\n",
       "    </tr>\n",
       "    <tr>\n",
       "      <th>2018</th>\n",
       "      <td>3.542495</td>\n",
       "      <td>6.76992</td>\n",
       "      <td>4.928890</td>\n",
       "    </tr>\n",
       "    <tr>\n",
       "      <th>2019</th>\n",
       "      <td>3.541055</td>\n",
       "      <td>6.73808</td>\n",
       "      <td>4.987280</td>\n",
       "    </tr>\n",
       "    <tr>\n",
       "      <th>2020</th>\n",
       "      <td>3.572956</td>\n",
       "      <td>6.62898</td>\n",
       "      <td>5.435440</td>\n",
       "    </tr>\n",
       "  </tbody>\n",
       "</table>\n",
       "</div>"
      ],
      "text/plain": [
       "        SE.XPD.TOTL.GD.ZS                         \n",
       "country             China Costa Rica United States\n",
       "year                                              \n",
       "2010             3.754642    6.56574      6.694554\n",
       "2011             3.521965    6.37989      6.497684\n",
       "2012             3.944094    6.58240      6.253886\n",
       "2013             3.710476    6.68740      6.229258\n",
       "2014             3.580334    6.67952      6.129206\n",
       "2015             3.813830    6.87350      4.946780\n",
       "2016             3.761116    6.89396      4.806660\n",
       "2017             3.667450    7.06981      5.122880\n",
       "2018             3.542495    6.76992      4.928890\n",
       "2019             3.541055    6.73808      4.987280\n",
       "2020             3.572956    6.62898      5.435440"
      ]
     },
     "execution_count": 8,
     "metadata": {},
     "output_type": "execute_result"
    }
   ],
   "source": [
    "base.unstack('country')"
   ]
  },
  {
   "cell_type": "code",
   "execution_count": 9,
   "id": "9afc3726",
   "metadata": {
    "slideshow": {
     "slide_type": "-"
    }
   },
   "outputs": [
    {
     "data": {
      "text/plain": [
       "MultiIndex([('SE.XPD.TOTL.GD.ZS',         'China'),\n",
       "            ('SE.XPD.TOTL.GD.ZS',    'Costa Rica'),\n",
       "            ('SE.XPD.TOTL.GD.ZS', 'United States')],\n",
       "           names=[None, 'country'])"
      ]
     },
     "execution_count": 9,
     "metadata": {},
     "output_type": "execute_result"
    }
   ],
   "source": [
    "base.unstack('country').columns"
   ]
  },
  {
   "cell_type": "code",
   "execution_count": 10,
   "id": "190b7b25",
   "metadata": {
    "slideshow": {
     "slide_type": "subslide"
    }
   },
   "outputs": [
    {
     "data": {
      "text/html": [
       "<div>\n",
       "<style scoped>\n",
       "    .dataframe tbody tr th:only-of-type {\n",
       "        vertical-align: middle;\n",
       "    }\n",
       "\n",
       "    .dataframe tbody tr th {\n",
       "        vertical-align: top;\n",
       "    }\n",
       "\n",
       "    .dataframe thead th {\n",
       "        text-align: right;\n",
       "    }\n",
       "</style>\n",
       "<table border=\"1\" class=\"dataframe\">\n",
       "  <thead>\n",
       "    <tr style=\"text-align: right;\">\n",
       "      <th>country</th>\n",
       "      <th>China</th>\n",
       "      <th>Costa Rica</th>\n",
       "      <th>United States</th>\n",
       "    </tr>\n",
       "    <tr>\n",
       "      <th>year</th>\n",
       "      <th></th>\n",
       "      <th></th>\n",
       "      <th></th>\n",
       "    </tr>\n",
       "  </thead>\n",
       "  <tbody>\n",
       "    <tr>\n",
       "      <th>2010</th>\n",
       "      <td>3.754642</td>\n",
       "      <td>6.56574</td>\n",
       "      <td>6.694554</td>\n",
       "    </tr>\n",
       "    <tr>\n",
       "      <th>2011</th>\n",
       "      <td>3.521965</td>\n",
       "      <td>6.37989</td>\n",
       "      <td>6.497684</td>\n",
       "    </tr>\n",
       "    <tr>\n",
       "      <th>2012</th>\n",
       "      <td>3.944094</td>\n",
       "      <td>6.58240</td>\n",
       "      <td>6.253886</td>\n",
       "    </tr>\n",
       "    <tr>\n",
       "      <th>2013</th>\n",
       "      <td>3.710476</td>\n",
       "      <td>6.68740</td>\n",
       "      <td>6.229258</td>\n",
       "    </tr>\n",
       "    <tr>\n",
       "      <th>2014</th>\n",
       "      <td>3.580334</td>\n",
       "      <td>6.67952</td>\n",
       "      <td>6.129206</td>\n",
       "    </tr>\n",
       "    <tr>\n",
       "      <th>2015</th>\n",
       "      <td>3.813830</td>\n",
       "      <td>6.87350</td>\n",
       "      <td>4.946780</td>\n",
       "    </tr>\n",
       "    <tr>\n",
       "      <th>2016</th>\n",
       "      <td>3.761116</td>\n",
       "      <td>6.89396</td>\n",
       "      <td>4.806660</td>\n",
       "    </tr>\n",
       "    <tr>\n",
       "      <th>2017</th>\n",
       "      <td>3.667450</td>\n",
       "      <td>7.06981</td>\n",
       "      <td>5.122880</td>\n",
       "    </tr>\n",
       "    <tr>\n",
       "      <th>2018</th>\n",
       "      <td>3.542495</td>\n",
       "      <td>6.76992</td>\n",
       "      <td>4.928890</td>\n",
       "    </tr>\n",
       "    <tr>\n",
       "      <th>2019</th>\n",
       "      <td>3.541055</td>\n",
       "      <td>6.73808</td>\n",
       "      <td>4.987280</td>\n",
       "    </tr>\n",
       "    <tr>\n",
       "      <th>2020</th>\n",
       "      <td>3.572956</td>\n",
       "      <td>6.62898</td>\n",
       "      <td>5.435440</td>\n",
       "    </tr>\n",
       "  </tbody>\n",
       "</table>\n",
       "</div>"
      ],
      "text/plain": [
       "country     China  Costa Rica  United States\n",
       "year                                        \n",
       "2010     3.754642     6.56574       6.694554\n",
       "2011     3.521965     6.37989       6.497684\n",
       "2012     3.944094     6.58240       6.253886\n",
       "2013     3.710476     6.68740       6.229258\n",
       "2014     3.580334     6.67952       6.129206\n",
       "2015     3.813830     6.87350       4.946780\n",
       "2016     3.761116     6.89396       4.806660\n",
       "2017     3.667450     7.06981       5.122880\n",
       "2018     3.542495     6.76992       4.928890\n",
       "2019     3.541055     6.73808       4.987280\n",
       "2020     3.572956     6.62898       5.435440"
      ]
     },
     "execution_count": 10,
     "metadata": {},
     "output_type": "execute_result"
    }
   ],
   "source": [
    "escolari = base.unstack('country')['SE.XPD.TOTL.GD.ZS']\n",
    "escolari"
   ]
  },
  {
   "cell_type": "code",
   "execution_count": 11,
   "id": "be625f2e",
   "metadata": {
    "slideshow": {
     "slide_type": "slide"
    }
   },
   "outputs": [],
   "source": [
    "renombrar = {'China':'CN', 'Costa Rica':'CR', 'United States':'US'}\n",
    "escolari.rename(columns = renombrar, inplace = True)"
   ]
  },
  {
   "cell_type": "code",
   "execution_count": 12,
   "id": "139b337f",
   "metadata": {
    "slideshow": {
     "slide_type": "subslide"
    }
   },
   "outputs": [
    {
     "data": {
      "text/html": [
       "<div>\n",
       "<style scoped>\n",
       "    .dataframe tbody tr th:only-of-type {\n",
       "        vertical-align: middle;\n",
       "    }\n",
       "\n",
       "    .dataframe tbody tr th {\n",
       "        vertical-align: top;\n",
       "    }\n",
       "\n",
       "    .dataframe thead th {\n",
       "        text-align: right;\n",
       "    }\n",
       "</style>\n",
       "<table border=\"1\" class=\"dataframe\">\n",
       "  <thead>\n",
       "    <tr style=\"text-align: right;\">\n",
       "      <th>country</th>\n",
       "      <th>CN</th>\n",
       "      <th>CR</th>\n",
       "      <th>US</th>\n",
       "    </tr>\n",
       "    <tr>\n",
       "      <th>year</th>\n",
       "      <th></th>\n",
       "      <th></th>\n",
       "      <th></th>\n",
       "    </tr>\n",
       "  </thead>\n",
       "  <tbody>\n",
       "    <tr>\n",
       "      <th>2010</th>\n",
       "      <td>3.754642</td>\n",
       "      <td>6.56574</td>\n",
       "      <td>6.694554</td>\n",
       "    </tr>\n",
       "    <tr>\n",
       "      <th>2011</th>\n",
       "      <td>3.521965</td>\n",
       "      <td>6.37989</td>\n",
       "      <td>6.497684</td>\n",
       "    </tr>\n",
       "    <tr>\n",
       "      <th>2012</th>\n",
       "      <td>3.944094</td>\n",
       "      <td>6.58240</td>\n",
       "      <td>6.253886</td>\n",
       "    </tr>\n",
       "    <tr>\n",
       "      <th>2013</th>\n",
       "      <td>3.710476</td>\n",
       "      <td>6.68740</td>\n",
       "      <td>6.229258</td>\n",
       "    </tr>\n",
       "    <tr>\n",
       "      <th>2014</th>\n",
       "      <td>3.580334</td>\n",
       "      <td>6.67952</td>\n",
       "      <td>6.129206</td>\n",
       "    </tr>\n",
       "    <tr>\n",
       "      <th>2015</th>\n",
       "      <td>3.813830</td>\n",
       "      <td>6.87350</td>\n",
       "      <td>4.946780</td>\n",
       "    </tr>\n",
       "    <tr>\n",
       "      <th>2016</th>\n",
       "      <td>3.761116</td>\n",
       "      <td>6.89396</td>\n",
       "      <td>4.806660</td>\n",
       "    </tr>\n",
       "    <tr>\n",
       "      <th>2017</th>\n",
       "      <td>3.667450</td>\n",
       "      <td>7.06981</td>\n",
       "      <td>5.122880</td>\n",
       "    </tr>\n",
       "    <tr>\n",
       "      <th>2018</th>\n",
       "      <td>3.542495</td>\n",
       "      <td>6.76992</td>\n",
       "      <td>4.928890</td>\n",
       "    </tr>\n",
       "    <tr>\n",
       "      <th>2019</th>\n",
       "      <td>3.541055</td>\n",
       "      <td>6.73808</td>\n",
       "      <td>4.987280</td>\n",
       "    </tr>\n",
       "    <tr>\n",
       "      <th>2020</th>\n",
       "      <td>3.572956</td>\n",
       "      <td>6.62898</td>\n",
       "      <td>5.435440</td>\n",
       "    </tr>\n",
       "  </tbody>\n",
       "</table>\n",
       "</div>"
      ],
      "text/plain": [
       "country        CN       CR        US\n",
       "year                                \n",
       "2010     3.754642  6.56574  6.694554\n",
       "2011     3.521965  6.37989  6.497684\n",
       "2012     3.944094  6.58240  6.253886\n",
       "2013     3.710476  6.68740  6.229258\n",
       "2014     3.580334  6.67952  6.129206\n",
       "2015     3.813830  6.87350  4.946780\n",
       "2016     3.761116  6.89396  4.806660\n",
       "2017     3.667450  7.06981  5.122880\n",
       "2018     3.542495  6.76992  4.928890\n",
       "2019     3.541055  6.73808  4.987280\n",
       "2020     3.572956  6.62898  5.435440"
      ]
     },
     "execution_count": 12,
     "metadata": {},
     "output_type": "execute_result"
    }
   ],
   "source": [
    "escolari"
   ]
  },
  {
   "cell_type": "markdown",
   "id": "dcf69899",
   "metadata": {
    "slideshow": {
     "slide_type": "slide"
    }
   },
   "source": [
    "## Exportar base de datos"
   ]
  },
  {
   "cell_type": "code",
   "execution_count": 13,
   "id": "f659e928",
   "metadata": {
    "slideshow": {
     "slide_type": "subslide"
    }
   },
   "outputs": [],
   "source": [
    "# Exportar la base que hemos creado a un archivo CSV\n",
    "escolari.to_csv('C:/Users/juanm/Desktop/Jupyter/escolari.csv')\n",
    "# Exportar la base que hemos creado a un archivo Excel\n",
    "escolari.to_excel('C:/Users/juanm/Desktop/Jupyter/escolari.xlsx')"
   ]
  },
  {
   "attachments": {},
   "cell_type": "markdown",
   "id": "e60281fe",
   "metadata": {
    "slideshow": {
     "slide_type": "subslide"
    }
   },
   "source": [
    "![attachment:excel.PNG](https://github.com/juanandres-montero/Computacion-para-economistas/blob/main/LABS/DataAnalysis/Pandas/LAB_00/images/excel.PNG?raw=true)"
   ]
  },
  {
   "cell_type": "markdown",
   "id": "48e7e20c",
   "metadata": {
    "slideshow": {
     "slide_type": "slide"
    }
   },
   "source": [
    " ## Usar base de datos descargada"
   ]
  },
  {
   "cell_type": "code",
   "execution_count": 14,
   "id": "a3ccadd3",
   "metadata": {
    "slideshow": {
     "slide_type": "subslide"
    }
   },
   "outputs": [],
   "source": [
    "del escolari"
   ]
  },
  {
   "cell_type": "markdown",
   "id": "04d81734",
   "metadata": {
    "slideshow": {
     "slide_type": "subslide"
    }
   },
   "source": [
    "Lo más común es utilizar una base que ya tenemos, sea en formato excel, csv, etc. Para cargar el Excel como una base de datos en python usamos pandas de la manera siguiente:\n"
   ]
  },
  {
   "cell_type": "code",
   "execution_count": 15,
   "id": "35926a93",
   "metadata": {
    "slideshow": {
     "slide_type": "subslide"
    }
   },
   "outputs": [],
   "source": [
    "escolari = pd.read_excel('C:/Users/juanm/Desktop/Jupyter/escolari.xlsx')"
   ]
  },
  {
   "cell_type": "code",
   "execution_count": 16,
   "id": "89a8feab",
   "metadata": {
    "slideshow": {
     "slide_type": "subslide"
    }
   },
   "outputs": [
    {
     "data": {
      "text/html": [
       "<div>\n",
       "<style scoped>\n",
       "    .dataframe tbody tr th:only-of-type {\n",
       "        vertical-align: middle;\n",
       "    }\n",
       "\n",
       "    .dataframe tbody tr th {\n",
       "        vertical-align: top;\n",
       "    }\n",
       "\n",
       "    .dataframe thead th {\n",
       "        text-align: right;\n",
       "    }\n",
       "</style>\n",
       "<table border=\"1\" class=\"dataframe\">\n",
       "  <thead>\n",
       "    <tr style=\"text-align: right;\">\n",
       "      <th></th>\n",
       "      <th>year</th>\n",
       "      <th>CN</th>\n",
       "      <th>CR</th>\n",
       "      <th>US</th>\n",
       "    </tr>\n",
       "  </thead>\n",
       "  <tbody>\n",
       "    <tr>\n",
       "      <th>0</th>\n",
       "      <td>2010</td>\n",
       "      <td>3.754642</td>\n",
       "      <td>6.56574</td>\n",
       "      <td>6.694554</td>\n",
       "    </tr>\n",
       "    <tr>\n",
       "      <th>1</th>\n",
       "      <td>2011</td>\n",
       "      <td>3.521965</td>\n",
       "      <td>6.37989</td>\n",
       "      <td>6.497684</td>\n",
       "    </tr>\n",
       "    <tr>\n",
       "      <th>2</th>\n",
       "      <td>2012</td>\n",
       "      <td>3.944094</td>\n",
       "      <td>6.58240</td>\n",
       "      <td>6.253886</td>\n",
       "    </tr>\n",
       "    <tr>\n",
       "      <th>3</th>\n",
       "      <td>2013</td>\n",
       "      <td>3.710476</td>\n",
       "      <td>6.68740</td>\n",
       "      <td>6.229258</td>\n",
       "    </tr>\n",
       "    <tr>\n",
       "      <th>4</th>\n",
       "      <td>2014</td>\n",
       "      <td>3.580334</td>\n",
       "      <td>6.67952</td>\n",
       "      <td>6.129206</td>\n",
       "    </tr>\n",
       "    <tr>\n",
       "      <th>5</th>\n",
       "      <td>2015</td>\n",
       "      <td>3.813830</td>\n",
       "      <td>6.87350</td>\n",
       "      <td>4.946780</td>\n",
       "    </tr>\n",
       "    <tr>\n",
       "      <th>6</th>\n",
       "      <td>2016</td>\n",
       "      <td>3.761116</td>\n",
       "      <td>6.89396</td>\n",
       "      <td>4.806660</td>\n",
       "    </tr>\n",
       "    <tr>\n",
       "      <th>7</th>\n",
       "      <td>2017</td>\n",
       "      <td>3.667450</td>\n",
       "      <td>7.06981</td>\n",
       "      <td>5.122880</td>\n",
       "    </tr>\n",
       "    <tr>\n",
       "      <th>8</th>\n",
       "      <td>2018</td>\n",
       "      <td>3.542495</td>\n",
       "      <td>6.76992</td>\n",
       "      <td>4.928890</td>\n",
       "    </tr>\n",
       "    <tr>\n",
       "      <th>9</th>\n",
       "      <td>2019</td>\n",
       "      <td>3.541055</td>\n",
       "      <td>6.73808</td>\n",
       "      <td>4.987280</td>\n",
       "    </tr>\n",
       "    <tr>\n",
       "      <th>10</th>\n",
       "      <td>2020</td>\n",
       "      <td>3.572956</td>\n",
       "      <td>6.62898</td>\n",
       "      <td>5.435440</td>\n",
       "    </tr>\n",
       "  </tbody>\n",
       "</table>\n",
       "</div>"
      ],
      "text/plain": [
       "    year        CN       CR        US\n",
       "0   2010  3.754642  6.56574  6.694554\n",
       "1   2011  3.521965  6.37989  6.497684\n",
       "2   2012  3.944094  6.58240  6.253886\n",
       "3   2013  3.710476  6.68740  6.229258\n",
       "4   2014  3.580334  6.67952  6.129206\n",
       "5   2015  3.813830  6.87350  4.946780\n",
       "6   2016  3.761116  6.89396  4.806660\n",
       "7   2017  3.667450  7.06981  5.122880\n",
       "8   2018  3.542495  6.76992  4.928890\n",
       "9   2019  3.541055  6.73808  4.987280\n",
       "10  2020  3.572956  6.62898  5.435440"
      ]
     },
     "execution_count": 16,
     "metadata": {},
     "output_type": "execute_result"
    }
   ],
   "source": [
    "escolari"
   ]
  },
  {
   "cell_type": "code",
   "execution_count": 17,
   "id": "cc3fd562",
   "metadata": {
    "slideshow": {
     "slide_type": "slide"
    }
   },
   "outputs": [],
   "source": [
    "escolari.set_index('year', inplace=True)"
   ]
  },
  {
   "cell_type": "code",
   "execution_count": 18,
   "id": "daeffd4e",
   "metadata": {
    "slideshow": {
     "slide_type": "subslide"
    }
   },
   "outputs": [
    {
     "data": {
      "text/html": [
       "<div>\n",
       "<style scoped>\n",
       "    .dataframe tbody tr th:only-of-type {\n",
       "        vertical-align: middle;\n",
       "    }\n",
       "\n",
       "    .dataframe tbody tr th {\n",
       "        vertical-align: top;\n",
       "    }\n",
       "\n",
       "    .dataframe thead th {\n",
       "        text-align: right;\n",
       "    }\n",
       "</style>\n",
       "<table border=\"1\" class=\"dataframe\">\n",
       "  <thead>\n",
       "    <tr style=\"text-align: right;\">\n",
       "      <th></th>\n",
       "      <th>CN</th>\n",
       "      <th>CR</th>\n",
       "      <th>US</th>\n",
       "    </tr>\n",
       "    <tr>\n",
       "      <th>year</th>\n",
       "      <th></th>\n",
       "      <th></th>\n",
       "      <th></th>\n",
       "    </tr>\n",
       "  </thead>\n",
       "  <tbody>\n",
       "    <tr>\n",
       "      <th>2010</th>\n",
       "      <td>3.754642</td>\n",
       "      <td>6.56574</td>\n",
       "      <td>6.694554</td>\n",
       "    </tr>\n",
       "    <tr>\n",
       "      <th>2011</th>\n",
       "      <td>3.521965</td>\n",
       "      <td>6.37989</td>\n",
       "      <td>6.497684</td>\n",
       "    </tr>\n",
       "    <tr>\n",
       "      <th>2012</th>\n",
       "      <td>3.944094</td>\n",
       "      <td>6.58240</td>\n",
       "      <td>6.253886</td>\n",
       "    </tr>\n",
       "    <tr>\n",
       "      <th>2013</th>\n",
       "      <td>3.710476</td>\n",
       "      <td>6.68740</td>\n",
       "      <td>6.229258</td>\n",
       "    </tr>\n",
       "    <tr>\n",
       "      <th>2014</th>\n",
       "      <td>3.580334</td>\n",
       "      <td>6.67952</td>\n",
       "      <td>6.129206</td>\n",
       "    </tr>\n",
       "    <tr>\n",
       "      <th>2015</th>\n",
       "      <td>3.813830</td>\n",
       "      <td>6.87350</td>\n",
       "      <td>4.946780</td>\n",
       "    </tr>\n",
       "    <tr>\n",
       "      <th>2016</th>\n",
       "      <td>3.761116</td>\n",
       "      <td>6.89396</td>\n",
       "      <td>4.806660</td>\n",
       "    </tr>\n",
       "    <tr>\n",
       "      <th>2017</th>\n",
       "      <td>3.667450</td>\n",
       "      <td>7.06981</td>\n",
       "      <td>5.122880</td>\n",
       "    </tr>\n",
       "    <tr>\n",
       "      <th>2018</th>\n",
       "      <td>3.542495</td>\n",
       "      <td>6.76992</td>\n",
       "      <td>4.928890</td>\n",
       "    </tr>\n",
       "    <tr>\n",
       "      <th>2019</th>\n",
       "      <td>3.541055</td>\n",
       "      <td>6.73808</td>\n",
       "      <td>4.987280</td>\n",
       "    </tr>\n",
       "    <tr>\n",
       "      <th>2020</th>\n",
       "      <td>3.572956</td>\n",
       "      <td>6.62898</td>\n",
       "      <td>5.435440</td>\n",
       "    </tr>\n",
       "  </tbody>\n",
       "</table>\n",
       "</div>"
      ],
      "text/plain": [
       "            CN       CR        US\n",
       "year                             \n",
       "2010  3.754642  6.56574  6.694554\n",
       "2011  3.521965  6.37989  6.497684\n",
       "2012  3.944094  6.58240  6.253886\n",
       "2013  3.710476  6.68740  6.229258\n",
       "2014  3.580334  6.67952  6.129206\n",
       "2015  3.813830  6.87350  4.946780\n",
       "2016  3.761116  6.89396  4.806660\n",
       "2017  3.667450  7.06981  5.122880\n",
       "2018  3.542495  6.76992  4.928890\n",
       "2019  3.541055  6.73808  4.987280\n",
       "2020  3.572956  6.62898  5.435440"
      ]
     },
     "execution_count": 18,
     "metadata": {},
     "output_type": "execute_result"
    }
   ],
   "source": [
    "escolari"
   ]
  },
  {
   "cell_type": "markdown",
   "id": "34623bed",
   "metadata": {
    "slideshow": {
     "slide_type": "slide"
    }
   },
   "source": [
    "# Gráficos"
   ]
  },
  {
   "cell_type": "markdown",
   "id": "9e985fa7",
   "metadata": {
    "slideshow": {
     "slide_type": "subslide"
    }
   },
   "source": [
    "Al inicio usamos ```import matplotlib.pyplot as plt```, esto nos ayudará a graficar"
   ]
  },
  {
   "cell_type": "code",
   "execution_count": 19,
   "id": "13c98e3f",
   "metadata": {
    "slideshow": {
     "slide_type": "subslide"
    }
   },
   "outputs": [],
   "source": [
    "import matplotlib.pyplot as plt"
   ]
  },
  {
   "cell_type": "markdown",
   "id": "7293bd99",
   "metadata": {
    "slideshow": {
     "slide_type": "slide"
    }
   },
   "source": [
    "## Graficar una lista de valores"
   ]
  },
  {
   "cell_type": "code",
   "execution_count": 20,
   "id": "5502fc36",
   "metadata": {
    "slideshow": {
     "slide_type": "subslide"
    }
   },
   "outputs": [
    {
     "data": {
      "image/png": "[encoded data removed]",
      "text/plain": [
       "<Figure size 640x480 with 1 Axes>"
      ]
     },
     "metadata": {},
     "output_type": "display_data"
    }
   ],
   "source": [
    "lista = [0,10,5,15,10]\n",
    "plt.plot(lista)\n",
    "plt.show()"
   ]
  },
  {
   "cell_type": "markdown",
   "id": "c1881fda",
   "metadata": {
    "slideshow": {
     "slide_type": "slide"
    }
   },
   "source": [
    "### Gráficos estadísticos"
   ]
  },
  {
   "cell_type": "code",
   "execution_count": 21,
   "id": "09e3855f",
   "metadata": {
    "slideshow": {
     "slide_type": "subslide"
    }
   },
   "outputs": [],
   "source": [
    "import numpy as np\n",
    "from scipy.stats import norm\n",
    "x = np.linspace(-4,4,50)"
   ]
  },
  {
   "cell_type": "code",
   "execution_count": 22,
   "id": "968cbe86",
   "metadata": {
    "scrolled": false,
    "slideshow": {
     "slide_type": "subslide"
    }
   },
   "outputs": [
    {
     "data": {
      "image/png": "[encoded data removed]",
      "text/plain": [
       "<Figure size 640x480 with 1 Axes>"
      ]
     },
     "metadata": {},
     "output_type": "display_data"
    }
   ],
   "source": [
    "y = norm.pdf(x)\n",
    "plt.plot(x, y, \"--\", color= 'red') # \"--\", \"-\", \"o\"\n",
    "plt.show()"
   ]
  },
  {
   "cell_type": "markdown",
   "id": "903e9ad9",
   "metadata": {
    "slideshow": {
     "slide_type": "subslide"
    }
   },
   "source": [
    "Lista completa de [Colores](https://matplotlib.org/stable/_images/sphx_glr_named_colors_003.png)"
   ]
  },
  {
   "cell_type": "markdown",
   "id": "4566d34a",
   "metadata": {
    "slideshow": {
     "slide_type": "slide"
    }
   },
   "source": [
    "## Subplots"
   ]
  },
  {
   "cell_type": "code",
   "execution_count": 23,
   "id": "2caf02e8",
   "metadata": {
    "scrolled": false,
    "slideshow": {
     "slide_type": "subslide"
    }
   },
   "outputs": [
    {
     "data": {
      "image/png": "[encoded data removed]",
      "text/plain": [
       "<Figure size 640x480 with 1 Axes>"
      ]
     },
     "metadata": {},
     "output_type": "display_data"
    }
   ],
   "source": [
    "oferta = [0,8]\n",
    "demanda = [10, 0]\n",
    "\n",
    "fig,ax = plt.subplots()\n",
    "o, = ax.plot(oferta, color = \"#566ee1\")\n",
    "d,= ax.plot(demanda, color = \"brown\")\n",
    "\n",
    "o.set_label('Oferta')\n",
    "d.set_label('Demanda')\n",
    "ax.legend()\n",
    "plt.show()"
   ]
  },
  {
   "cell_type": "code",
   "execution_count": 24,
   "id": "ef70b5ec",
   "metadata": {
    "slideshow": {
     "slide_type": "slide"
    }
   },
   "outputs": [
    {
     "name": "stderr",
     "output_type": "stream",
     "text": [
      "C:\\Users\\juanm\\anaconda3\\Lib\\site-packages\\IPython\\core\\interactiveshell.py:3505: RankWarning: Polyfit may be poorly conditioned\n",
      "  exec(code_obj, self.user_global_ns, self.user_ns)\n",
      "C:\\Users\\juanm\\anaconda3\\Lib\\site-packages\\IPython\\core\\interactiveshell.py:3505: RankWarning: Polyfit may be poorly conditioned\n",
      "  exec(code_obj, self.user_global_ns, self.user_ns)\n"
     ]
    },
    {
     "data": {
      "image/png": "[encoded data removed]",
      "text/plain": [
       "<Figure size 640x480 with 1 Axes>"
      ]
     },
     "metadata": {},
     "output_type": "display_data"
    }
   ],
   "source": [
    "import matplotlib.pyplot as plt\n",
    "import numpy as np\n",
    "\n",
    "oferta = [0, 8]\n",
    "demanda = [10, 0]\n",
    "\n",
    "# Generar puntos para las curvas suavizadas\n",
    "x_oferta = np.linspace(0, 1, 100) * (len(oferta) - 1)\n",
    "x_demanda = np.linspace(0, 1, 100) * (len(demanda) - 1)\n",
    "\n",
    "# Ajustar curvas utilizando una función polinómica de grado 2\n",
    "p_oferta = np.poly1d(np.polyfit(range(len(oferta)), oferta, 2))\n",
    "p_demanda = np.poly1d(np.polyfit(range(len(demanda)), demanda, 2))\n",
    "\n",
    "# Calcular valores y trazar las curvas suavizadas\n",
    "oferta_smooth = p_oferta(x_oferta)\n",
    "demanda_smooth = p_demanda(x_demanda)\n",
    "\n",
    "fig, ax = plt.subplots()\n",
    "\n",
    "o, = ax.plot(oferta_smooth, color=\"#566ee1\")\n",
    "d, = ax.plot(demanda_smooth, color=\"brown\")\n",
    "\n",
    "o.set_label('Oferta')\n",
    "d.set_label('Demanda')\n",
    "ax.legend()\n",
    "plt.show()"
   ]
  },
  {
   "cell_type": "markdown",
   "id": "33808191",
   "metadata": {
    "slideshow": {
     "slide_type": "subslide"
    }
   },
   "source": [
    "![attachment:excel.PNG](https://github.com/juanandres-montero/Computacion-para-economistas/blob/main/LABS/DataAnalysis/Pandas/LAB_00/images/ofdem.png?raw=true)"
   ]
  },
  {
   "cell_type": "markdown",
   "id": "7e9672f9",
   "metadata": {
    "slideshow": {
     "slide_type": "slide"
    }
   },
   "source": [
    "# Usando la base creada"
   ]
  },
  {
   "cell_type": "markdown",
   "id": "08bfcd3a",
   "metadata": {
    "slideshow": {
     "slide_type": "subslide"
    }
   },
   "source": [
    "## Gráfico de líneas para China, Costa Rica y Estados Unidos"
   ]
  },
  {
   "cell_type": "code",
   "execution_count": 25,
   "id": "0a827a8d",
   "metadata": {
    "scrolled": false,
    "slideshow": {
     "slide_type": "subslide"
    }
   },
   "outputs": [
    {
     "data": {
      "image/png": "[encoded data removed]",
      "text/plain": [
       "<Figure size 1000x600 with 1 Axes>"
      ]
     },
     "metadata": {},
     "output_type": "display_data"
    }
   ],
   "source": [
    "plt.figure(figsize=(10, 6))\n",
    "for column in escolari.columns: \n",
    "    plt.plot(escolari.index, escolari[column], marker='o', label=column)\n",
    "\n",
    "plt.title('Comparación de CN, CR y US a lo largo de los años')\n",
    "plt.xlabel('Año')\n",
    "plt.ylabel('Gasto en educación como % de PIB')\n",
    "plt.legend()\n",
    "plt.grid(True)\n",
    "plt.savefig('grafico_lineas.png') #Guardar el gráfico como imágen\n",
    "plt.show()"
   ]
  },
  {
   "cell_type": "markdown",
   "id": "60199aa5",
   "metadata": {
    "slideshow": {
     "slide_type": "slide"
    }
   },
   "source": [
    "## Gráfico de barras para China, Costa Rica y Estados Unidos en un año específico (por ejemplo, 2020)"
   ]
  },
  {
   "cell_type": "code",
   "execution_count": 26,
   "id": "44128dd1",
   "metadata": {
    "slideshow": {
     "slide_type": "subslide"
    }
   },
   "outputs": [
    {
     "data": {
      "text/plain": [
       "<Figure size 1000x600 with 0 Axes>"
      ]
     },
     "metadata": {},
     "output_type": "display_data"
    },
    {
     "data": {
      "image/png": "[encoded data removed]",
      "text/plain": [
       "<Figure size 640x480 with 1 Axes>"
      ]
     },
     "metadata": {},
     "output_type": "display_data"
    }
   ],
   "source": [
    "plt.figure(figsize=(10, 6))\n",
    "escolari.loc[[2011,2017]].plot(kind='bar', color=['red', '#566ee1', 'brown'])\n",
    "plt.title('Comparación de CN, CR y US en el año 2020')\n",
    "plt.xlabel('Año')\n",
    "plt.ylabel('Gasto en educación como % de PIB')\n",
    "plt.xticks(rotation=0)\n",
    "plt.grid(alpha = 0.3)\n",
    "plt.savefig('grafico_bar.jpg')\n",
    "plt.show()"
   ]
  },
  {
   "cell_type": "markdown",
   "id": "62da51a7",
   "metadata": {
    "slideshow": {
     "slide_type": "slide"
    }
   },
   "source": [
    "## Gráfico de área apilada para CN, CR y US a lo largo de los años"
   ]
  },
  {
   "cell_type": "code",
   "execution_count": 27,
   "id": "febb76ed",
   "metadata": {
    "scrolled": false,
    "slideshow": {
     "slide_type": "subslide"
    }
   },
   "outputs": [
    {
     "data": {
      "image/png": "[encoded data removed]",
      "text/plain": [
       "<Figure size 1000x600 with 1 Axes>"
      ]
     },
     "metadata": {},
     "output_type": "display_data"
    },
    {
     "data": {
      "text/plain": [
       "<Figure size 640x480 with 0 Axes>"
      ]
     },
     "metadata": {},
     "output_type": "display_data"
    }
   ],
   "source": [
    "plt.figure(figsize=(10, 6))\n",
    "plt.stackplot(escolari.index, escolari['CN'], escolari['CR'], escolari['US'], labels=['CN', 'CR', 'US'], colors=['#20B2AA','#566ee1', '#6495ED'])\n",
    "plt.title('Distribución de CN, CR y US a lo largo de los años')\n",
    "plt.xlabel('Año')\n",
    "plt.ylabel('Gasto en educación como % de PIB')\n",
    "plt.legend(loc='upper left')\n",
    "plt.grid(True,alpha=0.3)\n",
    "plt.show()\n",
    "plt.savefig('grafico_dispersion.svg')"
   ]
  },
  {
   "cell_type": "markdown",
   "id": "153af7d7",
   "metadata": {
    "slideshow": {
     "slide_type": "slide"
    }
   },
   "source": [
    "No es necesario aprender de memoria, al momento de limpiar datos, corregirlos y graficar se suelen usar lineas de código casi que idénticas, por lo tanto al usar Pandas nos ahorramos buena parte de la programación. Lo relevante aquí es conocer de qué cosas es capáz la herramienta."
   ]
  }
 ],
 "metadata": {
  "celltoolbar": "Slideshow",
  "kernelspec": {
   "display_name": "Python 3 (ipykernel)",
   "language": "python",
   "name": "python3"
  },
  "language_info": {
   "codemirror_mode": {
    "name": "ipython",
    "version": 3
   },
   "file_extension": ".py",
   "mimetype": "text/x-python",
   "name": "python",
   "nbconvert_exporter": "python",
   "pygments_lexer": "ipython3",
   "version": "3.11.4"
  },
  "toc": {
   "base_numbering": 1,
   "nav_menu": {
    "height": "95px",
    "width": "173px"
   },
   "number_sections": true,
   "sideBar": true,
   "skip_h1_title": false,
   "title_cell": "Table of Contents",
   "title_sidebar": "Contents",
   "toc_cell": false,
   "toc_position": {},
   "toc_section_display": true,
   "toc_window_display": false
  }
 },
 "nbformat": 4,
 "nbformat_minor": 5
}
